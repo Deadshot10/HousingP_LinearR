{
  "nbformat": 4,
  "nbformat_minor": 0,
  "metadata": {
    "colab": {
      "name": "House prices.ipynb",
      "provenance": [],
      "collapsed_sections": [],
      "authorship_tag": "ABX9TyNJU1ElLzsgqApChSCw//sd",
      "include_colab_link": true
    },
    "kernelspec": {
      "name": "python3",
      "display_name": "Python 3"
    },
    "language_info": {
      "name": "python"
    }
  },
  "cells": [
    {
      "cell_type": "markdown",
      "metadata": {
        "id": "view-in-github",
        "colab_type": "text"
      },
      "source": [
        "<a href=\"https://colab.research.google.com/github/Deadshot10/HousingP_LinearR/blob/main/House_prices.ipynb\" target=\"_parent\"><img src=\"https://colab.research.google.com/assets/colab-badge.svg\" alt=\"Open In Colab\"/></a>"
      ]
    },
    {
      "cell_type": "code",
      "execution_count": 1,
      "metadata": {
        "id": "kN5eclzQlFYB"
      },
      "outputs": [],
      "source": [
        "import torch\n",
        "from torch.autograd import Variable #this is used to create tensors that support gradient calculations\n",
        "#the autograd class is used to calculate the jacobian vector product\n"
      ]
    },
    {
      "cell_type": "code",
      "source": [
        ""
      ],
      "metadata": {
        "id": "CkqvqbCcqyz9"
      },
      "execution_count": null,
      "outputs": []
    },
    {
      "cell_type": "code",
      "source": [
        "class LinearRegressionModel(torch.nn.Module):\n",
        "  def _init_(self): # basically the init method works  like a constructor from c++ which assigns the attributes of a class to the object that is created. \n",
        "  #Here we create a class of our linear regression and the init method is called anytime an object is defined wrt this class.\n",
        "  #to the init method,when we pass self,attributeval,attrval.. what we do is assign those vals to the predefined attributes that the object inherited from the class.\n",
        "    super(LinearRegressionModel,self)._init_():\n",
        "     self.Linear= torch.nn.Linear(1,1)#one in one out as we are using a data set with one variable to predict the other variable the dependent variable\n",
        "\n",
        "  def forward(self,x):\n",
        "    y_pred=self.linear(x)\n",
        "    return y_pred"
      ],
      "metadata": {
        "id": "2UwLaVaTry-e"
      },
      "execution_count": null,
      "outputs": []
    },
    {
      "cell_type": "code",
      "source": [
        "our_model = LinearRegressionModel() #this is basically creating an our model object which belongs to the linear regression class\n",
        "criterion = torch.nn.MSELoss(size_average=False) #this is used to define the loss function\n",
        "optimizer = torch.optim.SGD(our_model.parameters(),lr=0.01) #this is used to decide the optimization method for our loss function. The learning rate is basically the rate at which\n",
        "# the parameters of the loss function are changed as we progress towards approaching the local minima. In linear regression problems there is only single global minima"
      ],
      "metadata": {
        "id": "z4FjkX1vvDM4"
      },
      "execution_count": null,
      "outputs": []
    },
    {
      "cell_type": "code",
      "source": [
        "for epoch in range(700):\n",
        "  #first we will perform the forward pass\n",
        "  #pass x to the model\n",
        "\n",
        "  pred_y = our_model(x_data)\n",
        "  loss = criterion(pred_y,y_data)\n",
        "\n",
        "  # Zero gradients, perform a backward pass,\n",
        "  # and update the weights.\n",
        "  optimizer.zero_grad()\n",
        "  loss.backward()\n",
        "  optimizer.step()\n",
        "  print('epoch {}, loss {}'.format(epoch, loss.item()))"
      ],
      "metadata": {
        "id": "sKIiejdNKEBr"
      },
      "execution_count": null,
      "outputs": []
    }
  ]
}