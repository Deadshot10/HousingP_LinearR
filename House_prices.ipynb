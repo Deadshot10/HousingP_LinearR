{
  "nbformat": 4,
  "nbformat_minor": 0,
  "metadata": {
    "colab": {
      "name": "House prices.ipynb",
      "provenance": [],
      "collapsed_sections": [],
      "authorship_tag": "ABX9TyOdVs4BeK0l9scb92nFsQaI",
      "include_colab_link": true
    },
    "kernelspec": {
      "name": "python3",
      "display_name": "Python 3"
    },
    "language_info": {
      "name": "python"
    }
  },
  "cells": [
    {
      "cell_type": "markdown",
      "metadata": {
        "id": "view-in-github",
        "colab_type": "text"
      },
      "source": [
        "<a href=\"https://colab.research.google.com/github/Deadshot10/HousingP_LinearR/blob/main/House_prices.ipynb\" target=\"_parent\"><img src=\"https://colab.research.google.com/assets/colab-badge.svg\" alt=\"Open In Colab\"/></a>"
      ]
    },
    {
      "cell_type": "code",
      "execution_count": null,
      "metadata": {
        "id": "kN5eclzQlFYB"
      },
      "outputs": [],
      "source": [
        "import torch\n",
        "from torch.autograd import Variable #this is used to create tensors that support gradient calculations\n",
        "#the autograd class is used to calculate the jacobian vector product\n"
      ]
    },
    {
      "cell_type": "code",
      "source": [
        ""
      ],
      "metadata": {
        "id": "CkqvqbCcqyz9"
      },
      "execution_count": null,
      "outputs": []
    },
    {
      "cell_type": "code",
      "source": [
        "class LinearRegressionModel(torch.nn.Module):\n",
        "  def _init_(self):\n",
        "    super(LinearRegressionModel,self),_init_()\n",
        "    self.Linear= torch.nn.Linear(1,1)#one in one out as we are using a data set with one variable to predict the other variable the dependent variable\n",
        "\n",
        "  def forward(self,x):\n",
        "    y_pred=self.linear(x)\n",
        "    return y_pred"
      ],
      "metadata": {
        "id": "2UwLaVaTry-e"
      },
      "execution_count": null,
      "outputs": []
    },
    {
      "cell_type": "code",
      "source": [
        "our_model=LinearRegressionModel()\n",
        "criterion = torch.nn.MSELoss(size_average=False)\n",
        "optimizer = torch.optim.SGD(our_model.parameters(),lr=0.01)"
      ],
      "metadata": {
        "id": "z4FjkX1vvDM4"
      },
      "execution_count": null,
      "outputs": []
    }
  ]
}